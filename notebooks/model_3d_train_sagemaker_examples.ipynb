{
 "cells": [
  {
   "cell_type": "code",
   "execution_count": 1,
   "metadata": {},
   "outputs": [],
   "source": [
    "# Import statements.\n",
    "from dataset import *\n",
    "from model_3d_bounding_box import *"
   ]
  },
  {
   "cell_type": "code",
   "execution_count": 2,
   "metadata": {},
   "outputs": [],
   "source": [
    "# Global constants.\n",
    "BUCKET_NAME = 'sagemaker-4bai-project'\n",
    "S3_TRAIN_IMAGE_DIR = ('s3://{0}/KITTI/data_object_image_2/training/'\n",
    "                      'image_2/').format(BUCKET_NAME)\n",
    "S3_LABEL_DIR = 's3://{0}/KITTI/training/label_2/'.format(BUCKET_NAME)"
   ]
  },
  {
   "cell_type": "code",
   "execution_count": 3,
   "metadata": {},
   "outputs": [],
   "source": [
    "partition = get_train_only_kitti_partition_s3(S3_TRAIN_IMAGE_DIR)"
   ]
  },
  {
   "cell_type": "code",
   "execution_count": 4,
   "metadata": {},
   "outputs": [],
   "source": [
    "model = get_model_3d_deepbox()"
   ]
  },
  {
   "cell_type": "code",
   "execution_count": null,
   "metadata": {},
   "outputs": [
    {
     "name": "stderr",
     "output_type": "stream",
     "text": [
      "  0%|          | 2/5237 [00:00<04:32, 19.21it/s]"
     ]
    },
    {
     "name": "stdout",
     "output_type": "stream",
     "text": [
      "Reading labels from S3.\n"
     ]
    },
    {
     "name": "stderr",
     "output_type": "stream",
     "text": [
      "100%|██████████| 5237/5237 [03:50<00:00, 22.74it/s]\n",
      "  0%|          | 3/1496 [00:00<01:15, 19.79it/s]"
     ]
    },
    {
     "name": "stdout",
     "output_type": "stream",
     "text": [
      "Reading labels from S3.\n"
     ]
    },
    {
     "name": "stderr",
     "output_type": "stream",
     "text": [
      "100%|██████████| 1496/1496 [01:06<00:00, 22.38it/s]\n"
     ]
    },
    {
     "name": "stdout",
     "output_type": "stream",
     "text": [
      "Train for 345 steps, validate for 101 steps\n",
      "Epoch 1/5\n"
     ]
    }
   ],
   "source": [
    "train_args = DEFAULT_TRAIN_ARGS\n",
    "train_args['model_checkpoint_filename'] = os.path.join('..', 'model',\n",
    "                                                       'model_3d_deepbox.h5')\n",
    "history = train_s3(model, partition, S3_TRAIN_IMAGE_DIR, S3_LABEL_DIR)"
   ]
  },
  {
   "cell_type": "code",
   "execution_count": null,
   "metadata": {},
   "outputs": [],
   "source": []
  }
 ],
 "metadata": {
  "kernelspec": {
   "display_name": "conda_tensorflow2_p36",
   "language": "python",
   "name": "conda_tensorflow2_p36"
  },
  "language_info": {
   "codemirror_mode": {
    "name": "ipython",
    "version": 3
   },
   "file_extension": ".py",
   "mimetype": "text/x-python",
   "name": "python",
   "nbconvert_exporter": "python",
   "pygments_lexer": "ipython3",
   "version": "3.6.10"
  }
 },
 "nbformat": 4,
 "nbformat_minor": 4
}
