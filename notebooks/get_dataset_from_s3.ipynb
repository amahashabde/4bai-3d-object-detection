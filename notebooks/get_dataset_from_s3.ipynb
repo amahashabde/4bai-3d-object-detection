{
 "cells": [
  {
   "cell_type": "code",
   "execution_count": 9,
   "metadata": {},
   "outputs": [],
   "source": [
    "# Import statements.\n",
    "import boto3\n",
    "import os"
   ]
  },
  {
   "cell_type": "code",
   "execution_count": 15,
   "metadata": {},
   "outputs": [
    {
     "name": "stdout",
     "output_type": "stream",
     "text": [
      "KITTI/.DS_Store\n",
      "KITTI/data_object_calib/.DS_Store\n",
      "KITTI/data_object_calib/testing/.DS_Store\n",
      "KITTI/data_object_calib/testing/calib/000000.txt\n",
      "KITTI/data_object_calib/testing/calib/000001.txt\n",
      "KITTI/data_object_calib/testing/calib/000002.txt\n",
      "KITTI/data_object_calib/testing/calib/000003.txt\n",
      "KITTI/data_object_calib/testing/calib/000004.txt\n",
      "KITTI/data_object_calib/testing/calib/000005.txt\n",
      "KITTI/data_object_calib/testing/calib/000006.txt\n"
     ]
    }
   ],
   "source": [
    "bucket = 'sagemaker-4bai-project'\n",
    "conn = boto3.client('s3')\n",
    "contents = conn.list_objects(Bucket=bucket)['Contents']\n",
    "for f in contents[:10]:\n",
    "    print(f['Key'])"
   ]
  },
  {
   "cell_type": "code",
   "execution_count": 16,
   "metadata": {},
   "outputs": [],
   "source": [
    "if not os.path.exists('../data/KITTI'):\n",
    "    os.mkdir('../data/KITTI')"
   ]
  },
  {
   "cell_type": "code",
   "execution_count": 17,
   "metadata": {},
   "outputs": [],
   "source": [
    "# Declare bucket name, remote file, and destination\n",
    "src_file = 'KITTI/data_object_calib/testing/calib/000000.txt'\n",
    "dst_file = '../data/KITTI/test.txt'\n",
    "\n",
    "# Connect to S3 bucket and download file\n",
    "s3 = boto3.client('s3')\n",
    "with open(dst_file, 'wb') as outfile:\n",
    "    s3.download_fileobj(bucket, src_file, outfile)"
   ]
  },
  {
   "cell_type": "code",
   "execution_count": null,
   "metadata": {},
   "outputs": [],
   "source": []
  }
 ],
 "metadata": {
  "kernelspec": {
   "display_name": "conda_tensorflow_p36",
   "language": "python",
   "name": "conda_tensorflow_p36"
  },
  "language_info": {
   "codemirror_mode": {
    "name": "ipython",
    "version": 3
   },
   "file_extension": ".py",
   "mimetype": "text/x-python",
   "name": "python",
   "nbconvert_exporter": "python",
   "pygments_lexer": "ipython3",
   "version": "3.6.10"
  }
 },
 "nbformat": 4,
 "nbformat_minor": 4
}
