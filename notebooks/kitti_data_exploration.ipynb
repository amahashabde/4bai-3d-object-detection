{
 "cells": [
  {
   "cell_type": "markdown",
   "metadata": {},
   "source": [
    "# Data Exploration\n",
    "\n",
    "In this notebook, we load the KITTI dataset and explore the data."
   ]
  },
  {
   "cell_type": "code",
   "execution_count": null,
   "metadata": {},
   "outputs": [],
   "source": [
    "# Import statements.\n",
    "import os\n",
    "import numpy as np\n",
    "import matplotlib.pyplot as plt\n",
    "import matplotlib.patches as patches\n",
    "import cv2\n",
    "from typing import Dict, Any, List, Optional, Tuple\n",
    "from math import sin, cos"
   ]
  },
  {
   "cell_type": "code",
   "execution_count": null,
   "metadata": {},
   "outputs": [],
   "source": [
    "# Global constants.\n",
    "KITTI_ROOT_DIR = os.path.join('..', 'data', 'KITTI')\n",
    "LEFT_CAM_ROOT_DIR = os.path.join(KITTI_ROOT_DIR, 'data_object_image_2')\n",
    "TRAIN_IMAGE_DIR = os.path.join(LEFT_CAM_ROOT_DIR, 'training', 'image_2')\n",
    "TEST_IMAGE_DIR = os.path.join(LEFT_CAM_ROOT_DIR, 'testing', 'image_2')\n",
    "LABEL_DIR = os.path.join(KITTI_ROOT_DIR, 'training', 'label_2')\n",
    "DEFAULT_DATASET_ARGS = {'val_split': 0.3}\n",
    "TRAIN_KEY = 'train'\n",
    "VAL_KEY = 'val'\n",
    "TEST_KEY = 'test'"
   ]
  },
  {
   "cell_type": "code",
   "execution_count": null,
   "metadata": {},
   "outputs": [],
   "source": [
    "def get_partition(train_image_dir: str,\n",
    "                  test_image_dir: str, dataset_args: Dict[str, Any] =\n",
    "                  DEFAULT_DATASET_ARGS) -> Dict[str,List[str]]:\n",
    "    \"\"\"Returns a dict where the keys are 'train', 'test', and 'val', and the\n",
    "    values are the images under each. The list is the authoratative order of the\n",
    "    train/test examples; partition['train'][0] is the first training example,\n",
    "    and x_train[0] will correspond with that filename.\n",
    "    :param train_image_dir: The directory in which are located all the training\n",
    "    images.\n",
    "    :param test_image_dir: The directory in which are located all the test\n",
    "    images.\n",
    "    :param dataset_args: The dataset arguments. See DEFAULT_DATASET_ARGS for\n",
    "    available options.\n",
    "    :return: The train/val/test partition.\n",
    "    \"\"\"\n",
    "    dataset_args = {**DEFAULT_DATASET_ARGS, **dataset_args}\n",
    "    partition = {}\n",
    "    train_image_filenames = [filename for\n",
    "                             filename in os.listdir(train_image_dir) if\n",
    "                             filename.endswith('.png')]\n",
    "    rand_indices = np.random.permutation(len(train_image_filenames))\n",
    "    split_index = int(dataset_args['val_split'] * len(train_image_filenames))\n",
    "    val_indices = rand_indices[:split_index]\n",
    "    train_indices = rand_indices[split_index:]\n",
    "    partition[TRAIN_KEY] = [train_image_filenames[i] for i in train_indices]\n",
    "    partition[VAL_KEY] = [train_image_filenames[i] for i in val_indices]\n",
    "    test_image_filenames = [filename for\n",
    "                            filename in os.listdir(test_image_dir) if\n",
    "                            filename.endswith('.png')]\n",
    "    partition[TEST_KEY] = test_image_filenames\n",
    "    return partition"
   ]
  },
  {
   "cell_type": "code",
   "execution_count": null,
   "metadata": {},
   "outputs": [],
   "source": [
    "def load_image_into_numpy_array(\n",
    "    path: str,\n",
    "    target_size: Optional[Tuple[int, int]] = None) -> np.ndarray:\n",
    "    \"\"\"Load an image from file into a numpy array.\n",
    "    :param path: The path to the image.\n",
    "    :param target_size: If specified, the width and height of the output array.\n",
    "    If None, the image is size is unchanged.\n",
    "    :return: The image contents as an np.ndarray of type uint8.\n",
    "    \"\"\"\n",
    "    img_data = cv2.imread(path)\n",
    "    img_data = cv2.cvtColor(img_data, cv2.COLOR_BGR2RGB)\n",
    "    if target_size:\n",
    "        img_data = cv2.resize(img_data, target_size)\n",
    "    return img_data.astype(np.uint8)"
   ]
  },
  {
   "cell_type": "code",
   "execution_count": null,
   "metadata": {},
   "outputs": [],
   "source": [
    "def display_image(filename: str,\n",
    "                  fig_size: Tuple[float, float] = (9.0, 2.75)) -> None:\n",
    "    \"\"\"Displays the image at filename.\n",
    "    :param filename: The path to the image.\n",
    "    :param fig_size: The size of the output, in inches. The default values will\n",
    "    show the KITTI images in the correct aspect ratio without passing the 80\n",
    "    character vertical margin in jupyter.\n",
    "    \"\"\"\n",
    "    img = load_image_into_numpy_array(filename)\n",
    "    plt.imshow(img)\n",
    "    fig = plt.gcf()\n",
    "    fig.set_size_inches(*fig_size)\n",
    "    plt.tight_layout()\n",
    "    plt.xlim((0, img.shape[1]))\n",
    "    plt.ylim((img.shape[0], 0))"
   ]
  },
  {
   "cell_type": "code",
   "execution_count": null,
   "metadata": {},
   "outputs": [],
   "source": [
    "def display_image_2d_boxes(filename: str,\n",
    "                           image_labels: List[str],\n",
    "                           fig_size: Tuple[float, float] = (9.0, 2.75)) -> None:\n",
    "    \"\"\"Displays the image at filename with its 2D bounding boxes.\n",
    "    :param filename: The path to the image.\n",
    "    :param image_labels: The image's labels.\n",
    "    :param fig_size: The size of the output, in inches.\n",
    "    \"\"\"\n",
    "    display_image(filename, fig_size=fig_size)\n",
    "    ax = plt.gca()\n",
    "    for line in image_labels:\n",
    "        x_left, y_top, x_right, y_bot = get_label_2d_box(line)\n",
    "        width = x_right - x_left\n",
    "        height = y_bot - y_top\n",
    "        rect = patches.Rectangle((x_left, y_top), width, height, linewidth=3,\n",
    "                                 edgecolor='g', facecolor='none')\n",
    "        ax.add_patch(rect)"
   ]
  },
  {
   "cell_type": "code",
   "execution_count": null,
   "metadata": {},
   "outputs": [],
   "source": [
    "def display_image_3d_boxes(filename: str,\n",
    "                           image_labels: List[str],\n",
    "                           fig_size: Tuple[float, float] = (9.0, 2.75)) -> None:\n",
    "    \"\"\"Displays the image at filename with its 3D bounding boxes.\n",
    "    :param filename: The path to the image.\n",
    "    :param image_labels: The image's labels.\n",
    "    :param fig_size: The size of the output, in inches.\n",
    "    \"\"\"\n",
    "    display_image(filename, fig_size=fig_size)\n",
    "    ax = plt.gca()\n",
    "    for line in image_labels:\n",
    "        # TODO get 3D box and draw it.\n",
    "        # See https://github.com/smallcorgi/3D-Deepbox/tree/master/visualization\n",
    "        # computeBox3D.m and then projectToImage.m\n",
    "        pass"
   ]
  },
  {
   "cell_type": "code",
   "execution_count": null,
   "metadata": {},
   "outputs": [],
   "source": [
    "def get_label_class(label_line: str) -> str:\n",
    "    \"\"\"Returns the class from the line from a label file.\n",
    "    :param label_line: A line from a label file.\n",
    "    :return: The class name.\n",
    "    \"\"\"\n",
    "    return label_line.split(' ')[0]"
   ]
  },
  {
   "cell_type": "code",
   "execution_count": null,
   "metadata": {},
   "outputs": [],
   "source": [
    "def get_label_2d_box(label_line: str) -> (float, float, float, float):\n",
    "    \"\"\"Returns the 2D bounding box from the line from a label file.\n",
    "    :param label_line: A line from a label file.\n",
    "    :return: The 2D bounding box as left, top, right, bottom.\n",
    "    \"\"\"\n",
    "    return tuple([float(num) for num in label_line.split(' ')[4:8]])"
   ]
  },
  {
   "cell_type": "code",
   "execution_count": null,
   "metadata": {},
   "outputs": [],
   "source": [
    "def get_labels(label_dir: str) -> Dict[str, List[str]]:\n",
    "    \"\"\"Returns a dict where the keys are the image filenames and the values are\n",
    "    the labels. Each file has several labels, each of which represents an\n",
    "    object.\n",
    "    :param label_dir: The directory containing the ground truth label files.\n",
    "    :return: The label dict.\n",
    "    \"\"\"\n",
    "    labels = {}\n",
    "    label_filenames = [filename for filename in os.listdir(label_dir) if\n",
    "                       filename.endswith('.txt')]\n",
    "    for filename in label_filenames:\n",
    "        with open(os.path.join(label_dir, filename), 'r') as infile:\n",
    "            labels[filename.replace('.txt', '.png')] = \\\n",
    "                [line.strip() for line in infile.readlines()]\n",
    "    return labels"
   ]
  },
  {
   "cell_type": "code",
   "execution_count": null,
   "metadata": {},
   "outputs": [],
   "source": [
    "partition = get_partition(TRAIN_IMAGE_DIR, TEST_IMAGE_DIR)\n",
    "labels = get_labels(LABEL_DIR)\n",
    "print('{0} train images'.format(len(partition[TRAIN_KEY])))\n",
    "print('{0} val images'.format(len(partition[VAL_KEY])))\n",
    "print('{0} test images'.format(len(partition[TEST_KEY])))\n",
    "print('{0} labels'.format(len(labels.keys())))"
   ]
  },
  {
   "cell_type": "code",
   "execution_count": null,
   "metadata": {},
   "outputs": [],
   "source": [
    "display_image(os.path.join(TRAIN_IMAGE_DIR, partition[TRAIN_KEY][0]))"
   ]
  },
  {
   "cell_type": "code",
   "execution_count": null,
   "metadata": {},
   "outputs": [],
   "source": [
    "# Use image 0000008.png for consistency (partition is in random order).\n",
    "example_filename = '000008.png'\n",
    "display_image(os.path.join(TRAIN_IMAGE_DIR, example_filename))\n",
    "print('Labels:')\n",
    "for label in labels[example_filename]:\n",
    "    print(label)"
   ]
  },
  {
   "cell_type": "code",
   "execution_count": null,
   "metadata": {},
   "outputs": [],
   "source": [
    "display_image_2d_boxes(os.path.join(TRAIN_IMAGE_DIR, example_filename),\n",
    "                      labels[example_filename])"
   ]
  },
  {
   "cell_type": "code",
   "execution_count": null,
   "metadata": {},
   "outputs": [],
   "source": [
    "# From 000008.png's calibration file.\n",
    "P2_str = '7.215377000000e+02 0.000000000000e+00 6.095593000000e+02 4.485728000000e+01 0.000000000000e+00 7.215377000000e+02 1.728540000000e+02 2.163791000000e-01 0.000000000000e+00 0.000000000000e+00 1.000000000000e+00 2.745884000000e-03'\n",
    "P2 = [float(num) for num in P2_str.split(' ')]\n",
    "P2 = np.array(P2)\n",
    "P2 = P2.reshape(3, 4)\n",
    "print(P2)\n",
    "R0_rect_str = '9.999239000000e-01 9.837760000000e-03 -7.445048000000e-03 -9.869795000000e-03 9.999421000000e-01 -4.278459000000e-03 7.402527000000e-03 4.351614000000e-03 9.999631000000e-01'\n",
    "R0_rect = [float(num) for num in R0_rect_str.split(' ')]\n",
    "R0_rect = np.array(R0_rect)\n",
    "R0_rect = R0_rect.reshape(3, 3)\n",
    "# Extend R0_rect to a 4x4 with a 1 in the bottom right corner and 0s everywhere else, as per KITTI readme.txt.\n",
    "R0_rect = np.concatenate((R0_rect, np.zeros((1, 3))), axis=0)\n",
    "R0_rect = np.concatenate((R0_rect, np.zeros((4, 1))), axis=1)\n",
    "R0_rect[3, 3] = 1\n",
    "print(R0_rect)\n",
    "Tr_velo_to_cam_str = '7.533745000000e-03 -9.999714000000e-01 -6.166020000000e-04 -4.069766000000e-03 1.480249000000e-02 7.280733000000e-04 -9.998902000000e-01 -7.631618000000e-02 9.998621000000e-01 7.523790000000e-03 1.480755000000e-02 -2.717806000000e-01'\n",
    "Tr_velo_to_cam = [float(num) for num in Tr_velo_to_cam_str.split(' ')]\n",
    "Tr_velo_to_cam = np.array(Tr_velo_to_cam)\n",
    "Tr_velo_to_cam = Tr_velo_to_cam.reshape(3, 4)\n",
    "# Extend Tr_velo_to_cam to a 4x4 with a 1 in the bottom right corner and 0s everywhere else, as per KITTI readme.txt.\n",
    "Tr_velo_to_cam = np.concatenate((Tr_velo_to_cam, np.zeros((1, 4))), axis=0)\n",
    "Tr_velo_to_cam[3, 3] = 1\n",
    "print(Tr_velo_to_cam)\n",
    "# From 000008.png's label file.\n",
    "pt_3d = np.expand_dims(np.array([-2.70, 1.74, 3.68]), axis=-1)\n",
    "pt_2d = np.matmul(P2, np.concatenate((pt_3d, np.ones((1, pt_3d.shape[1]))), axis=0))\n",
    "pt_2d[0, :] /= pt_2d[2, :]\n",
    "pt_2d[1, :] /= pt_2d[2, :]\n",
    "pt_2d[2, :] *= 0\n",
    "print(pt_2d)\n",
    "x = np.matmul(np.matmul(np.matmul(P2, R0_rect), Tr_velo_to_cam), y)\n",
    "print(x)"
   ]
  },
  {
   "cell_type": "code",
   "execution_count": null,
   "metadata": {},
   "outputs": [],
   "source": [
    "FACE_IDX = np.array([[0, 1, 5, 4], # Front\n",
    "                     [1, 2, 6, 5], # Left\n",
    "                     [2, 3, 7, 6], # Back\n",
    "                     [3, 0, 4, 7]]) # Right\n",
    "# From 000008.png's label file.\n",
    "label = 'Car 0.88 3 -0.69 0.00 192.37 402.31 374.00 1.60 1.57 3.23 -2.70 1.74 3.68 -1.29'\n",
    "label_arr = label.split(' ')\n",
    "obj = {}\n",
    "obj['type'] = label_arr[0]\n",
    "obj['truncation'] = float(label_arr[1])\n",
    "obj['occlusion'] = int(label_arr[2])\n",
    "obj['alpha'] = float(label_arr[3])\n",
    "obj['x1'] = float(label_arr[4])\n",
    "obj['y1'] = float(label_arr[5])\n",
    "obj['x2'] = float(label_arr[6])\n",
    "obj['y2'] = float(label_arr[7])\n",
    "obj['height'] = float(label_arr[8])\n",
    "obj['width'] = float(label_arr[9])\n",
    "obj['length'] = float(label_arr[10])\n",
    "obj['tx'] = float(label_arr[11])\n",
    "obj['ty'] = float(label_arr[12])\n",
    "obj['tz'] = float(label_arr[13])\n",
    "obj['ry'] = float(label_arr[14])"
   ]
  },
  {
   "cell_type": "code",
   "execution_count": null,
   "metadata": {},
   "outputs": [],
   "source": [
    "def get_obj_from_label_line(label_line):\n",
    "    label_arr = label_line.split(' ')\n",
    "    obj = {}\n",
    "    obj['type'] = label_arr[0]\n",
    "    obj['truncation'] = float(label_arr[1])\n",
    "    obj['occlusion'] = int(label_arr[2])\n",
    "    obj['alpha'] = float(label_arr[3])\n",
    "    obj['x1'] = float(label_arr[4])\n",
    "    obj['y1'] = float(label_arr[5])\n",
    "    obj['x2'] = float(label_arr[6])\n",
    "    obj['y2'] = float(label_arr[7])\n",
    "    obj['height'] = float(label_arr[8])\n",
    "    obj['width'] = float(label_arr[9])\n",
    "    obj['length'] = float(label_arr[10])\n",
    "    obj['tx'] = float(label_arr[11])\n",
    "    obj['ty'] = float(label_arr[12])\n",
    "    obj['tz'] = float(label_arr[13])\n",
    "    obj['ry'] = float(label_arr[14])\n",
    "    return obj"
   ]
  },
  {
   "cell_type": "code",
   "execution_count": null,
   "metadata": {},
   "outputs": [],
   "source": [
    "def project_to_image(pts_3D, P):\n",
    "    #input: pts_3D: 3xn matrix\n",
    "    #       P:      3x4 projection matrix\n",
    "    #output: pts_2D: 2xn matrix\n",
    "    # project in image\n",
    "    pts_3D_ones = np.concatenate((pts_3D, np.ones((1, pts_3D.shape[1]))), axis=0)\n",
    "    pts_2D = np.matmul(P, pts_3D_ones)\n",
    "    # scale projected points\n",
    "    pts_2D[0, :] = pts_2D[0, :] / pts_2D[2, :]\n",
    "    pts_2D[1, :] = pts_2D[1, :] / pts_2D[2, :]\n",
    "    pts_2D = pts_2D[:2, :]\n",
    "    return pts_2D    "
   ]
  },
  {
   "cell_type": "code",
   "execution_count": null,
   "metadata": {},
   "outputs": [],
   "source": [
    "def compute_box_3d(obj, P):\n",
    "    # Rotation matrix around yaw axis.\n",
    "    R = [[+cos(obj['ry']), 0, +sin(obj['ry'])],\n",
    "         [0, 1, 0],\n",
    "         [-sin(obj['ry']), 0, +cos(obj['ry'])]]\n",
    "    R = np.array(R)\n",
    "    # 3D bounding box dimensions and corners.\n",
    "    l = obj['length']\n",
    "    w = obj['width']\n",
    "    h = obj['height']\n",
    "    x_corners = [l / 2, l / 2, -l / 2, -l / 2, l / 2, l / 2, -l / 2, -l / 2]\n",
    "    y_corners = [0, 0, 0, 0, -h, -h, -h, -h]\n",
    "    z_corners = [w / 2, -w / 2, -w / 2, w / 2, w / 2, -w / 2, -w / 2, w / 2]\n",
    "    corners_centered = np.array([x_corners, y_corners, z_corners])\n",
    "    # Rotate and translate 3D bounding box.\n",
    "    corners_3D = np.matmul(R, corners_centered)\n",
    "    corners_3D[0, :] = corners_3D[0, :] + obj['tx']\n",
    "    corners_3D[1, :] = corners_3D[1, :] + obj['ty']\n",
    "    corners_3D[2, :] = corners_3D[2, :] + obj['tz']\n",
    "    # Only draw 3D bounding box for objects in front of the camera.\n",
    "    if np.any(corners_3D[2, :] < 0.1):\n",
    "        return None\n",
    "    # Project the 3D bounding box into the image plane.\n",
    "    corners_2D = project_to_image(corners_3D, P)\n",
    "    return corners_2D"
   ]
  },
  {
   "cell_type": "code",
   "execution_count": null,
   "metadata": {},
   "outputs": [],
   "source": [
    "def display_image_3d_boxes(filename: str,\n",
    "                           image_labels: List[str],\n",
    "                           fig_size: Tuple[float, float] = (9.0, 2.75)) -> None:\n",
    "    \"\"\"Displays the image at filename with its 3D bounding boxes.\n",
    "    :param filename: The path to the image.\n",
    "    :param image_labels: The image's labels.\n",
    "    :param fig_size: The size of the output, in inches.\n",
    "    \"\"\"\n",
    "    display_image(filename, fig_size=fig_size)\n",
    "    ax = plt.gca()\n",
    "    #for line in image_labels:\n",
    "    #    # TODO get 3D box and draw it.\n",
    "    #    # See https://github.com/smallcorgi/3D-Deepbox/tree/master/visualization\n",
    "    #    # computeBox3D.m and then projectToImage.m       \n",
    "    #    pass\n",
    "    # TODO go through all the label lines.\n",
    "    for line in image_labels:\n",
    "        obj = get_obj_from_label_line(line)\n",
    "        corners = compute_box_3d(obj, P2)\n",
    "        if corners is not None:\n",
    "            for face in range(4):\n",
    "                ax.plot(corners[0, FACE_IDX[face, :]], corners[1, FACE_IDX[face, :]])"
   ]
  },
  {
   "cell_type": "code",
   "execution_count": null,
   "metadata": {},
   "outputs": [],
   "source": [
    "compute_box_3d(obj, P2)"
   ]
  },
  {
   "cell_type": "code",
   "execution_count": null,
   "metadata": {},
   "outputs": [],
   "source": [
    "display_image_3d_boxes(os.path.join(TRAIN_IMAGE_DIR, example_filename),\n",
    "                      labels[example_filename])"
   ]
  },
  {
   "cell_type": "code",
   "execution_count": null,
   "metadata": {},
   "outputs": [],
   "source": []
  }
 ],
 "metadata": {
  "kernelspec": {
   "display_name": "Python 3",
   "language": "python",
   "name": "python3"
  },
  "language_info": {
   "codemirror_mode": {
    "name": "ipython",
    "version": 3
   },
   "file_extension": ".py",
   "mimetype": "text/x-python",
   "name": "python",
   "nbconvert_exporter": "python",
   "pygments_lexer": "ipython3",
   "version": "3.6.12"
  }
 },
 "nbformat": 4,
 "nbformat_minor": 4
}
