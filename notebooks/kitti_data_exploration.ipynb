{
 "cells": [
  {
   "cell_type": "markdown",
   "metadata": {},
   "source": [
    "# Data Exploration\n",
    "\n",
    "In this notebook, we load the KITTI dataset and explore the data."
   ]
  },
  {
   "cell_type": "code",
   "execution_count": null,
   "metadata": {},
   "outputs": [],
   "source": [
    "# Import statements.\n",
    "import os\n",
    "import numpy as np\n",
    "import matplotlib.pyplot as plt\n",
    "import matplotlib.patches as patches\n",
    "import cv2\n",
    "from typing import Dict, Any, List, Optional, Tuple"
   ]
  },
  {
   "cell_type": "code",
   "execution_count": null,
   "metadata": {},
   "outputs": [],
   "source": [
    "# Global constants.\n",
    "KITTI_ROOT_DIR = os.path.join('..', 'data', 'KITTI')\n",
    "LEFT_CAM_ROOT_DIR = os.path.join(KITTI_ROOT_DIR, 'data_object_image_2')\n",
    "TRAIN_IMAGE_DIR = os.path.join(LEFT_CAM_ROOT_DIR, 'training', 'image_2')\n",
    "TEST_IMAGE_DIR = os.path.join(LEFT_CAM_ROOT_DIR, 'testing', 'image_2')\n",
    "LABEL_DIR = os.path.join(KITTI_ROOT_DIR, 'training', 'label_2')\n",
    "DEFAULT_DATASET_ARGS = {'val_split': 0.3}\n",
    "TRAIN_KEY = 'train'\n",
    "VAL_KEY = 'val'\n",
    "TEST_KEY = 'test'"
   ]
  },
  {
   "cell_type": "code",
   "execution_count": null,
   "metadata": {},
   "outputs": [],
   "source": [
    "def get_partition(train_image_dir: str,\n",
    "                  test_image_dir: str, dataset_args: Dict[str, Any] =\n",
    "                  DEFAULT_DATASET_ARGS) -> Dict[str,List[str]]:\n",
    "    \"\"\"Returns a dict where the keys are 'train', 'test', and 'val', and the\n",
    "    values are the images under each. The list is the authoratative order of the\n",
    "    train/test examples; partition['train'][0] is the first training example,\n",
    "    and x_train[0] will correspond with that filename.\n",
    "    :param train_image_dir: The directory in which are located all the training\n",
    "    images.\n",
    "    :param test_image_dir: The directory in which are located all the test\n",
    "    images.\n",
    "    :param dataset_args: The dataset arguments. See DEFAULT_DATASET_ARGS for\n",
    "    available options.\n",
    "    :return: The train/val/test partition.\n",
    "    \"\"\"\n",
    "    dataset_args = {**DEFAULT_DATASET_ARGS, **dataset_args}\n",
    "    partition = {}\n",
    "    train_image_filenames = [filename for\n",
    "                             filename in os.listdir(train_image_dir) if\n",
    "                             filename.endswith('.png')]\n",
    "    rand_indices = np.random.permutation(len(train_image_filenames))\n",
    "    split_index = int(dataset_args['val_split'] * len(train_image_filenames))\n",
    "    val_indices = rand_indices[:split_index]\n",
    "    train_indices = rand_indices[split_index:]\n",
    "    partition[TRAIN_KEY] = [train_image_filenames[i] for i in train_indices]\n",
    "    partition[VAL_KEY] = [train_image_filenames[i] for i in val_indices]\n",
    "    test_image_filenames = [filename for\n",
    "                            filename in os.listdir(test_image_dir) if\n",
    "                            filename.endswith('.png')]\n",
    "    partition[TEST_KEY] = test_image_filenames\n",
    "    return partition"
   ]
  },
  {
   "cell_type": "code",
   "execution_count": null,
   "metadata": {},
   "outputs": [],
   "source": [
    "def load_image_into_numpy_array(\n",
    "    path: str,\n",
    "    target_size: Optional[Tuple[int, int]] = None) -> np.ndarray:\n",
    "    \"\"\"Load an image from file into a numpy array.\n",
    "    :param path: The path to the image.\n",
    "    :param target_size: If specified, the width and height of the output array.\n",
    "    If None, the image is size is unchanged.\n",
    "    :return: The image contents as an np.ndarray of type uint8.\n",
    "    \"\"\"\n",
    "    img_data = cv2.imread(path)\n",
    "    img_data = cv2.cvtColor(img_data, cv2.COLOR_BGR2RGB)\n",
    "    if target_size:\n",
    "        img_data = cv2.resize(img_data, target_size)\n",
    "    return img_data.astype(np.uint8)"
   ]
  },
  {
   "cell_type": "code",
   "execution_count": null,
   "metadata": {},
   "outputs": [],
   "source": [
    "def display_image(filename: str,\n",
    "                  fig_size: Tuple[float, float] = (9.0, 2.75)) -> None:\n",
    "    \"\"\"Displays the image at filename.\n",
    "    :param filename: The path to the image.\n",
    "    :param fig_size: The size of the output, in inches. The default values will\n",
    "    show the KITTI images in the correct aspect ratio without passing the 80\n",
    "    character vertical margin in jupyter.\n",
    "    \"\"\"\n",
    "    plt.imshow(load_image_into_numpy_array(filename))\n",
    "    fig = plt.gcf()\n",
    "    fig.set_size_inches(*fig_size)\n",
    "    plt.tight_layout()"
   ]
  },
  {
   "cell_type": "code",
   "execution_count": null,
   "metadata": {},
   "outputs": [],
   "source": [
    "def display_image_2d_boxes(filename: str,\n",
    "                           image_labels: List[str],\n",
    "                           fig_size: Tuple[float, float] = (9.0, 2.75)) -> None:\n",
    "    \"\"\"Displays the image at filename with its 2D bounding boxes.\n",
    "    :param filename: The path to the image.\n",
    "    :param image_labels: The image's labels.\n",
    "    :param fig_size: The size of the output, in inches.\n",
    "    \"\"\"\n",
    "    display_image(filename, fig_size=fig_size)\n",
    "    ax = plt.gca()\n",
    "    for line in image_labels:\n",
    "        x_left, y_top, x_right, y_bot = get_label_2d_box(line)\n",
    "        width = x_right - x_left\n",
    "        height = y_bot - y_top\n",
    "        rect = patches.Rectangle((x_left, y_top), width, height, linewidth=3,\n",
    "                                 edgecolor='g', facecolor='none')\n",
    "        ax.add_patch(rect)"
   ]
  },
  {
   "cell_type": "code",
   "execution_count": null,
   "metadata": {},
   "outputs": [],
   "source": [
    "def display_image_3d_boxes(filename: str,\n",
    "                           image_labels: List[str],\n",
    "                           fig_size: Tuple[float, float] = (9.0, 2.75)) -> None:\n",
    "    \"\"\"Displays the image at filename with its 3D bounding boxes.\n",
    "    :param filename: The path to the image.\n",
    "    :param image_labels: The image's labels.\n",
    "    :param fig_size: The size of the output, in inches.\n",
    "    \"\"\"\n",
    "    display_image(filename, fig_size=fig_size)\n",
    "    ax = plt.gca()\n",
    "    for line in image_labels:\n",
    "        # TODO get 3D box and draw it.\n",
    "        # See https://github.com/smallcorgi/3D-Deepbox/tree/master/visualization\n",
    "        # computeBox3D.m and then projectToImage.m\n",
    "        pass"
   ]
  },
  {
   "cell_type": "code",
   "execution_count": null,
   "metadata": {},
   "outputs": [],
   "source": [
    "def get_label_class(label_line: str) -> str:\n",
    "    \"\"\"Returns the class from the line from a label file.\n",
    "    :param label_line: A line from a label file.\n",
    "    :return: The class name.\n",
    "    \"\"\"\n",
    "    return label_line.split(' ')[0]"
   ]
  },
  {
   "cell_type": "code",
   "execution_count": null,
   "metadata": {},
   "outputs": [],
   "source": [
    "def get_label_2d_box(label_line: str) -> (float, float, float, float):\n",
    "    \"\"\"Returns the 2D bounding box from the line from a label file.\n",
    "    :param label_line: A line from a label file.\n",
    "    :return: The 2D bounding box as left, top, right, bottom.\n",
    "    \"\"\"\n",
    "    return tuple([float(num) for num in label_line.split(' ')[4:8]])"
   ]
  },
  {
   "cell_type": "code",
   "execution_count": null,
   "metadata": {},
   "outputs": [],
   "source": [
    "def get_labels(label_dir: str) -> Dict[str, List[str]]:\n",
    "    \"\"\"Returns a dict where the keys are the image filenames and the values are\n",
    "    the labels. Each file has several labels, each of which represents an\n",
    "    object.\n",
    "    :param label_dir: The directory containing the ground truth label files.\n",
    "    :return: The label dict.\n",
    "    \"\"\"\n",
    "    labels = {}\n",
    "    label_filenames = [filename for filename in os.listdir(label_dir) if\n",
    "                       filename.endswith('.txt')]\n",
    "    for filename in label_filenames:\n",
    "        with open(os.path.join(label_dir, filename), 'r') as infile:\n",
    "            labels[filename.replace('.txt', '.png')] = \\\n",
    "                [line.strip() for line in infile.readlines()]\n",
    "    return labels"
   ]
  },
  {
   "cell_type": "code",
   "execution_count": null,
   "metadata": {},
   "outputs": [],
   "source": [
    "partition = get_partition(TRAIN_IMAGE_DIR, TEST_IMAGE_DIR)\n",
    "labels = get_labels(LABEL_DIR)\n",
    "print('{0} train images'.format(len(partition[TRAIN_KEY])))\n",
    "print('{0} val images'.format(len(partition[VAL_KEY])))\n",
    "print('{0} test images'.format(len(partition[TEST_KEY])))\n",
    "print('{0} labels'.format(len(labels.keys())))"
   ]
  },
  {
   "cell_type": "code",
   "execution_count": null,
   "metadata": {},
   "outputs": [],
   "source": [
    "display_image(os.path.join(TRAIN_IMAGE_DIR, partition[TRAIN_KEY][0]))"
   ]
  },
  {
   "cell_type": "code",
   "execution_count": null,
   "metadata": {},
   "outputs": [],
   "source": [
    "# Use image 0000008.png for consistency (partition is in random order).\n",
    "example_filename = '000008.png'\n",
    "display_image(os.path.join(TRAIN_IMAGE_DIR, example_filename))\n",
    "print('Labels:')\n",
    "for label in labels[example_filename]:\n",
    "    print(label)"
   ]
  },
  {
   "cell_type": "code",
   "execution_count": null,
   "metadata": {},
   "outputs": [],
   "source": [
    "display_image_2d_boxes(os.path.join(TRAIN_IMAGE_DIR, example_filename),\n",
    "                      labels[example_filename])"
   ]
  },
  {
   "cell_type": "code",
   "execution_count": null,
   "metadata": {},
   "outputs": [],
   "source": []
  },
  {
   "cell_type": "code",
   "execution_count": null,
   "metadata": {},
   "outputs": [],
   "source": []
  }
 ],
 "metadata": {
  "kernelspec": {
   "display_name": "Python 3",
   "language": "python",
   "name": "python3"
  },
  "language_info": {
   "codemirror_mode": {
    "name": "ipython",
    "version": 3
   },
   "file_extension": ".py",
   "mimetype": "text/x-python",
   "name": "python",
   "nbconvert_exporter": "python",
   "pygments_lexer": "ipython3",
   "version": "3.6.12"
  }
 },
 "nbformat": 4,
 "nbformat_minor": 4
}
