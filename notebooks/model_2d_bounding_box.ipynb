{
 "cells": [
  {
   "cell_type": "markdown",
   "metadata": {},
   "source": [
    "# 2D bounding box model\n",
    "\n",
    "In this notebook, we implement a deep neural network that takes as input monocular (left camera) KITTI images and outputs 2D bounding boxes. Our model will be a pretrained YOLO network."
   ]
  },
  {
   "cell_type": "code",
   "execution_count": 69,
   "metadata": {},
   "outputs": [],
   "source": [
    "# Import statements.\n",
    "import os\n",
    "import imageio\n",
    "from tqdm import tqdm\n",
    "from PIL import Image\n",
    "import numpy as np\n",
    "from typing import Tuple, Optional, Dict, Any\n",
    "from matplotlib.pyplot import imshow\n",
    "import tensorflow as tf\n",
    "from keras import backend as K\n",
    "from keras.models import load_model, Model\n",
    "from yolo_utils import read_classes, read_anchors, generate_colors, \\\n",
    "    preprocess_image, draw_boxes, scale_boxes\n",
    "from yad2k.models.keras_yolo import yolo_head, yolo_boxes_to_corners, \\\n",
    "    preprocess_true_boxes, yolo_loss, yolo_body"
   ]
  },
  {
   "cell_type": "code",
   "execution_count": 2,
   "metadata": {},
   "outputs": [
    {
     "name": "stdout",
     "output_type": "stream",
     "text": [
      "Recommended TensorFlow version: 1.15.0\n",
      "Currently running: 1.15.0\n"
     ]
    }
   ],
   "source": [
    "print('Recommended TensorFlow version: 1.15.0')\n",
    "print('Currently running: {0}'.format(tf.__version__))\n",
    "if not tf.__version__.startswith('1.'):\n",
    "    raise ValueError('This module is only compatible with TensorFlow 1.0.')"
   ]
  },
  {
   "cell_type": "code",
   "execution_count": 66,
   "metadata": {},
   "outputs": [],
   "source": [
    "# Global constants.\n",
    "YOLO_MODEL_INPUT_SHAPE = (608, 608, 3)\n",
    "CLASS_NAMES = read_classes(os.path.join('yolo_config', 'coco_classes.txt'))\n",
    "ANCHORS = read_anchors(os.path.join('yolo_config', 'yolo_anchors.txt'))\n",
    "YOLO_MODEL_PATH = os.path.join('yolo_config', 'yolo.h5')\n",
    "KITTI_CLASSES = ['Car', 'Van', 'Truck', 'Pedestrian', 'Person_sitting',\n",
    "                 'Cyclist', 'Tram', 'Misc', 'DontCare']\n",
    "COCO_TO_KITTI_CLASS = {\n",
    "    'car': 'Car',\n",
    "    'truck': 'Truck',\n",
    "    'person': 'Pedestrian'}\n",
    "INVALID_TRUNCATION = -1\n",
    "INVALID_OCCLUSION = -1\n",
    "INVALID_ALPHA = -10\n",
    "INVALID_3D_HWL = -1\n",
    "INVALID_3D_LOC = -1000\n",
    "INVALID_RY = -10\n",
    "TRAIN_LABEL_DIR = os.path.join('..', 'data', 'KITTI', 'training', 'label_2')\n",
    "TRAIN_IMAGE_DIR = os.path.join('..', 'data', 'KITTI', 'data_object_image_2',\n",
    "                               'training', 'image_2')\n",
    "TEST_IMAGE_DIR = os.path.join('..', 'data', 'KITTI', 'data_object_image_2',\n",
    "                              'testing', 'image_2')\n",
    "TRAIN_PREDICT_DIR = os.path.join('..', 'data', 'predictions', '2d_boxes',\n",
    "                                 'train')\n",
    "TEST_PREDICT_DIR = os.path.join('..', 'data', 'predictions', '2d_boxes',\n",
    "                                'test')"
   ]
  },
  {
   "cell_type": "code",
   "execution_count": 4,
   "metadata": {},
   "outputs": [],
   "source": [
    "def yolo_filter_boxes(\n",
    "    box_confidence: np.ndarray,\n",
    "    boxes: np.ndarray,\n",
    "    box_class_probs: np.ndarray,\n",
    "    threshold: float = 0.6) -> Tuple[np.ndarray, np.ndarray, np.ndarray]:\n",
    "    \"\"\"Filters YOLO boxes by thresholding on object and class confidence.\n",
    "    :param box_confidence: The confidences associated with each anchor box; a\n",
    "    tensor of shape (19, 19, 5, 1), where each entry is the probability that an\n",
    "    object was detected in each of the 5 anchor boxes for that cell.\n",
    "    :param boxes: The midpoint and dimensions (x, y, height, width) of each\n",
    "    bounding box; a tensor of shape (19, 19, 5, 4).\n",
    "    :param box_class_probs: The probability that the detected object (if any)\n",
    "    belongs to each class; a tensor of shape (19, 19, 5, 80).\n",
    "    :param threshold: If the highest class score (box confidence * class\n",
    "    probability) is lower than the threshold, remove the corresponding box.\n",
    "    :return: A 3 tuple of scores, boxes, and classes for the best boxes. Scores\n",
    "    contains the class probability scores for selected boxes; a tensor of shape\n",
    "    (None,). Boxes contains the coordinates (midpoint, height, and width) of\n",
    "    selected boxes; a tensor of shape (None, 4). Classes contains the index of\n",
    "    the class detected by the selected boxes; a tensor of shape (None,). None is\n",
    "    the number of selected boxes, which varies based on the input image.\n",
    "    \"\"\"\n",
    "    box_scores = box_confidence * box_class_probs\n",
    "    box_classes = K.argmax(box_scores, axis=-1)\n",
    "    # TODO use the argmax results as indices, rather than recomputing the max.\n",
    "    box_class_scores = K.max(box_scores, axis=-1)\n",
    "    filtering_mask = box_class_scores >= threshold\n",
    "    scores  = box_class_scores[filtering_mask]\n",
    "    boxes   = boxes[filtering_mask]\n",
    "    classes = box_classes[filtering_mask]\n",
    "    return scores, boxes, classes"
   ]
  },
  {
   "cell_type": "code",
   "execution_count": 5,
   "metadata": {},
   "outputs": [],
   "source": [
    "def iou(box1: Tuple[float, float, float, float],\n",
    "        box2: Tuple[float, float, float, float]) -> float:\n",
    "    \"\"\"Returns the intersection over union (IoU) between box1 and box2.\n",
    "    :param box1: The first box, (x1, y1, x2, y2) where (x1, y1) is the upper\n",
    "    left corner and (x2, y2) is the lower right corner. These are normalized on\n",
    "    the size of the image, so that x and y are in the interval [0, 1].\n",
    "    :param box2: The second box, (x1, y1, x2, y2) where (x1, y1) is the upper\n",
    "    left corner and (x2, y2) is the lower right corner. These are normalized on\n",
    "    the size of the image, so that x and y are in the interval [0, 1].\n",
    "    :return: The intersection over union metric.\n",
    "    \"\"\"\n",
    "    xi1 = max(box1[0], box2[0])\n",
    "    yi1 = max(box1[1], box2[1])\n",
    "    xi2 = min(box1[2], box2[2])\n",
    "    yi2 = min(box1[3], box2[3])\n",
    "    inter_width  = max(xi2-xi1, 0)\n",
    "    inter_height = max(yi2-yi1, 0)\n",
    "    inter_area = inter_width * inter_height\n",
    "    box1_area  = (box1[3]-box1[1])*(box1[2]-box1[0])\n",
    "    box2_area  = (box2[3]-box2[1])*(box2[2]-box2[0])\n",
    "    union_area = box1_area + box2_area - inter_area\n",
    "    iou = inter_area / union_area\n",
    "    return iou"
   ]
  },
  {
   "cell_type": "code",
   "execution_count": 6,
   "metadata": {},
   "outputs": [],
   "source": [
    "def yolo_non_max_suppression(\n",
    "    scores: np.ndarray,\n",
    "    boxes: np.ndarray,\n",
    "    classes: np.ndarray,\n",
    "    max_boxes: int = 10,\n",
    "    iou_threshold: float = 0.5) -> Tuple[np.ndarray, np.ndarray, np.ndarray]:\n",
    "    \"\"\"Returns the scores, boxes, and classes detected after non-max\n",
    "    suppression on the detected boxes.\n",
    "    :param scores: The filtered box scores, output of yolo_filter_boxes().\n",
    "    :param boxes: The filtered boxes, output of yolo_filter_boxes().\n",
    "    :param classes: The filtered box classes, output of yolo_filter_boxes().\n",
    "    :param max_boxes: The maximum number of predicted boxes.\n",
    "    :param iou_threshold: The threshold on which to filter boxes. On each\n",
    "    iteration of the tf.image.non_max_suppression algorithm, boxes whose IoU\n",
    "    with the highest scoring box exceeds this value are filtered.\n",
    "    :return: A tuple of scores, boxes, classes, each of whose first shape\n",
    "    dimension equals the number of boxes found after applying non-max\n",
    "    suppression.\n",
    "    \"\"\"\n",
    "    max_boxes_tensor = K.variable(max_boxes, dtype='int32')\n",
    "    K.get_session().run(tf.variables_initializer([max_boxes_tensor]))\n",
    "    nms_indices = tf.image.non_max_suppression(boxes, scores, max_boxes,\n",
    "                                               iou_threshold)\n",
    "    scores = K.gather(scores, nms_indices)\n",
    "    boxes = K.gather(boxes, nms_indices)\n",
    "    classes = K.gather(classes, nms_indices)\n",
    "    return scores, boxes, classes"
   ]
  },
  {
   "cell_type": "code",
   "execution_count": 7,
   "metadata": {},
   "outputs": [],
   "source": [
    "def yolo_eval(\n",
    "    yolo_outputs: Tuple[np.ndarray, np.ndarray, np.ndarray, np.ndarray],\n",
    "    image_shape: Tuple[float, float] = (720., 1280.),\n",
    "    max_boxes: int= 10,\n",
    "    score_threshold: float = 0.6,\n",
    "    iou_threshold: float = 0.5) -> Tuple[np.ndarray, np.ndarray, np.ndarray]:\n",
    "    \"\"\"Returns the filtered and non-max suppressed outputs of the YOLO model.\n",
    "    :param yolo_outputs: The ouput of the YOLO model. Contains 4 tensors:\n",
    "    box_confidence, box_xy, box_wh, box_class_probs.\n",
    "    :param image_shape: The shape of the input image as a 2-tuple of (height,\n",
    "    width).\n",
    "    :param max_boxes: The maximum number of predicted boxes.\n",
    "    :param score_threshold: The score threshold for filtering YOLO boxes.\n",
    "    :param iou_threshold: The IoU threshold for non-max suppression.\n",
    "    :return: A tuple of scores, boxes, classes for the boxes found by YOLO after\n",
    "    applying filtering and non-max suppression.\n",
    "    \"\"\"\n",
    "    box_confidence, box_xy, box_wh, box_class_probs = yolo_outputs\n",
    "    boxes = yolo_boxes_to_corners(box_xy, box_wh)\n",
    "    scores, boxes, classes = yolo_filter_boxes(box_confidence, boxes,\n",
    "                                               box_class_probs,\n",
    "                                               threshold=score_threshold)\n",
    "    boxes = scale_boxes(boxes, image_shape)\n",
    "    scores, boxes, classes = yolo_non_max_suppression(\n",
    "        scores, boxes, classes, max_boxes=max_boxes,\n",
    "        iou_threshold=iou_threshold)\n",
    "    return scores, boxes, classes"
   ]
  },
  {
   "cell_type": "code",
   "execution_count": 8,
   "metadata": {},
   "outputs": [],
   "source": [
    "def predict_on_image(\n",
    "    yolo_model: tf.keras.Model,\n",
    "    sess: tf.Session,\n",
    "    image_file: str,\n",
    "    verbose: bool = False) -> Tuple[np.ndarray, np.ndarray, np.ndarray]:\n",
    "    \"\"\"Runs the YOLO graph stored in the session on the image.\n",
    "    :param yolo_model: The YOLO model.\n",
    "    :param sess: The TensorFlow/Keras session containing the YOLO graph.\n",
    "    :param image_file: The path to an image file on which to predict.\n",
    "    :param verbose: If True, prints info to the console.\n",
    "    :return: A tuple of scores, boxes, classes for the boxes found by YOLO.\n",
    "    \"\"\"\n",
    "    image, image_data = preprocess_image(\n",
    "        image_file, model_image_size = YOLO_MODEL_INPUT_SHAPE[:2])\n",
    "    yolo_outputs = yolo_head(yolo_model.output, ANCHORS, len(CLASS_NAMES))\n",
    "    image_size_h_w = tuple([float(dim) for dim in image.size[::-1]])\n",
    "    scores, boxes, classes = yolo_eval(yolo_outputs, image_size_h_w)\n",
    "    out_scores, out_boxes, out_classes = sess.run(\n",
    "        fetches = [scores, boxes, classes],\n",
    "        feed_dict = {\n",
    "            yolo_model.input: image_data,\n",
    "            K.learning_phase(): 0})\n",
    "    if verbose:\n",
    "        print('Found {0} boxes for {1}'.format(len(out_boxes), image_file))\n",
    "    return out_scores, out_boxes, out_classes"
   ]
  },
  {
   "cell_type": "code",
   "execution_count": 9,
   "metadata": {},
   "outputs": [],
   "source": [
    "def display_yolo_boxes(image_file: str, out_scores: np.ndarray,\n",
    "                       out_boxes: np.ndarray, out_classes: np.ndarray,\n",
    "                       save_file: Optional[str] = None) -> None:\n",
    "    \"\"\"Displays the YOLO boxes output from prediction on the image.\n",
    "    :param image_file: The path to the image file.\n",
    "    :param out_scores: The scores output from the YOLO model prediction.\n",
    "    :param out_boxes: The boxes output from the YOLO model prediction.\n",
    "    :param out_classes: The class probabilities output from the YOLO model\n",
    "    prediction.\n",
    "    :param save_file: If specified, the location at which to save the output\n",
    "    image.    \n",
    "    \"\"\"\n",
    "    print('Found {0} boxes for {1}'.format(len(out_boxes), image_file))\n",
    "    image, image_data = preprocess_image(\n",
    "        image_file, model_image_size = YOLO_MODEL_INPUT_SHAPE[:2])\n",
    "    colors = generate_colors(CLASS_NAMES)\n",
    "    draw_boxes(image, out_scores, out_boxes, out_classes, CLASS_NAMES, colors)\n",
    "    if save_file:\n",
    "        image.save(save_file, quality=90)\n",
    "    imshow(image)"
   ]
  },
  {
   "cell_type": "code",
   "execution_count": 10,
   "metadata": {},
   "outputs": [],
   "source": [
    "def get_yolo_model(model_save_file: str) -> tf.keras.Model:\n",
    "    \"\"\"Returns the YOLO model stored at the given h5 file. This is just for user\n",
    "    convenience.\n",
    "    :param model_save_file: The path to the YOLO model (probably yolo.h5).\n",
    "    :return: The YOLO model.\n",
    "    \"\"\"\n",
    "    return load_model(model_save_file)"
   ]
  },
  {
   "cell_type": "code",
   "execution_count": 11,
   "metadata": {},
   "outputs": [],
   "source": [
    "def get_session() -> tf.Session:\n",
    "    \"\"\"Returns the current session. This is just for user convenience.\n",
    "    :return: The current session.\n",
    "    \"\"\"\n",
    "    return K.get_session()"
   ]
  },
  {
   "cell_type": "code",
   "execution_count": 12,
   "metadata": {},
   "outputs": [
    {
     "name": "stdout",
     "output_type": "stream",
     "text": [
      "WARNING:tensorflow:From /Users/leo/anaconda3/envs/4bai-project/lib/python3.7/site-packages/tensorflow_core/python/ops/resource_variable_ops.py:1630: calling BaseResourceVariable.__init__ (from tensorflow.python.ops.resource_variable_ops) with constraint is deprecated and will be removed in a future version.\n",
      "Instructions for updating:\n",
      "If using Keras pass *_constraint arguments to layers.\n",
      "WARNING:tensorflow:From /Users/leo/anaconda3/envs/4bai-project/lib/python3.7/site-packages/keras/backend/tensorflow_backend.py:4070: The name tf.nn.max_pool is deprecated. Please use tf.nn.max_pool2d instead.\n",
      "\n",
      "WARNING:tensorflow:From /Users/kian/Desktop/floydhub/yolo-03-oct/YAD2K/yad2k/models/keras_yolo.py:32: The name tf.space_to_depth is deprecated. Please use tf.compat.v1.space_to_depth instead.\n",
      "\n"
     ]
    },
    {
     "name": "stderr",
     "output_type": "stream",
     "text": [
      "/Users/leo/anaconda3/envs/4bai-project/lib/python3.7/site-packages/keras/engine/saving.py:341: UserWarning: No training configuration found in save file: the model was *not* compiled. Compile it manually.\n",
      "  warnings.warn('No training configuration found in save file: '\n"
     ]
    }
   ],
   "source": [
    "sess = K.get_session()\n",
    "yolo_model = get_yolo_model(YOLO_MODEL_PATH)"
   ]
  },
  {
   "cell_type": "code",
   "execution_count": 13,
   "metadata": {},
   "outputs": [
    {
     "name": "stdout",
     "output_type": "stream",
     "text": [
      "WARNING:tensorflow:From /Users/leo/anaconda3/envs/4bai-project/lib/python3.7/site-packages/tensorflow_core/python/ops/array_ops.py:1475: where (from tensorflow.python.ops.array_ops) is deprecated and will be removed in a future version.\n",
      "Instructions for updating:\n",
      "Use tf.where in 2.0, which has the same broadcast rule as np.where\n"
     ]
    }
   ],
   "source": [
    "test_image = '../data/KITTI/data_object_image_2/training/image_2/000008.png'\n",
    "out_scores, out_boxes, out_classes = predict_on_image(yolo_model, sess,\n",
    "                                                      test_image)"
   ]
  },
  {
   "cell_type": "code",
   "execution_count": 14,
   "metadata": {},
   "outputs": [
    {
     "name": "stdout",
     "output_type": "stream",
     "text": [
      "Found 6 boxes for ../data/KITTI/data_object_image_2/training/image_2/000008.png\n",
      "car 0.64 (888, 181) (953, 236)\n",
      "car 0.67 (747, 169) (804, 206)\n",
      "car 0.78 (915, 197) (1232, 375)\n",
      "car 0.78 (600, 171) (718, 256)\n",
      "car 0.86 (0, 195) (410, 375)\n",
      "car 0.89 (333, 175) (615, 360)\n"
     ]
    },
    {
     "data": {
      "image/png": "[encoded data removed]",
      "text/plain": [
       "<Figure size 432x288 with 1 Axes>"
      ]
     },
     "metadata": {
      "needs_background": "light"
     },
     "output_type": "display_data"
    }
   ],
   "source": [
    "display_yolo_boxes(test_image, out_scores, out_boxes, out_classes,\n",
    "                   save_file='test_out.png')"
   ]
  },
  {
   "cell_type": "markdown",
   "metadata": {},
   "source": [
    "# Predicting 2D bounding boxes on KITTI\n",
    "\n",
    "Now that we have the 2D bounding box (YOLO) model working, we need to predict all of the bounding boxes on KITTI train and test datasets such that the output can be used by the 3D bounding box model. That means we need to output 2 directories of prediction files (for '000001.png', it would be '000001.txt') for training and test images. Each text file needs to be formatted according to the KITTI label file specifications."
   ]
  },
  {
   "cell_type": "code",
   "execution_count": 70,
   "metadata": {},
   "outputs": [],
   "source": [
    "def get_label_obj(label_line: str) -> Dict[str, Any]:\n",
    "    \"\"\"Returns a dict with all of the label properties.\n",
    "    :param label_line: A line from a label file.\n",
    "    :return: A dict representing the label.\n",
    "    \"\"\"\n",
    "    label_arr = label_line.split(' ')\n",
    "    obj = {}\n",
    "    obj['type'] = label_arr[0]\n",
    "    obj['truncation'] = float(label_arr[1])\n",
    "    obj['occlusion'] = int(label_arr[2])\n",
    "    obj['alpha'] = float(label_arr[3])\n",
    "    obj['x1'] = float(label_arr[4])\n",
    "    obj['y1'] = float(label_arr[5])\n",
    "    obj['x2'] = float(label_arr[6])\n",
    "    obj['y2'] = float(label_arr[7])\n",
    "    obj['height'] = float(label_arr[8])\n",
    "    obj['width'] = float(label_arr[9])\n",
    "    obj['length'] = float(label_arr[10])\n",
    "    obj['tx'] = float(label_arr[11])\n",
    "    obj['ty'] = float(label_arr[12])\n",
    "    obj['tz'] = float(label_arr[13])\n",
    "    obj['ry'] = float(label_arr[14])\n",
    "    return obj"
   ]
  },
  {
   "cell_type": "code",
   "execution_count": 71,
   "metadata": {},
   "outputs": [],
   "source": [
    "def get_best_3d_loc(\n",
    "    label_filename: str,\n",
    "    box: Tuple[float, float, float, float]) -> Tuple[int, int, int]:\n",
    "    \"\"\"Returns the 3D object location for the object whose 2D bounding box has\n",
    "    the highest IoU with the given 2D box, or the invalid location.\n",
    "    :param label_filename: The complete path to the label file for the image.\n",
    "    :param box: The 2D bounding box in (x1, y1, x2, y2) order.\n",
    "    :return: A 3-tuple of (x, y, z) for the best matching object, or the invalid\n",
    "    location (-1000, -1000, -1000).\n",
    "    \"\"\"\n",
    "    with open(label_filename, 'r') as infile:\n",
    "        labels = [line.strip() for line in infile.readlines()]\n",
    "    best_iou = 0\n",
    "    best_obj = None\n",
    "    for line in labels:\n",
    "        obj = get_label_obj(line)\n",
    "        obj_box = obj['x1'], obj['y1'], obj['x2'], obj['y2']\n",
    "        obj_iou = iou(box, obj_box)\n",
    "        if obj_iou > best_iou or not best_obj:\n",
    "            best_iou = obj_iou\n",
    "            best_obj = obj\n",
    "    if not best_obj:\n",
    "        return INVALID_3D_LOC, INVALID_3D_LOC, INVALID_3D_LOC\n",
    "    return best_obj['tx'], best_obj['ty'], best_obj['tz']"
   ]
  },
  {
   "cell_type": "code",
   "execution_count": 72,
   "metadata": {},
   "outputs": [],
   "source": [
    "def write_yolo_predictions(out_scores: np.ndarray, out_boxes: np.ndarray,\n",
    "                           out_classes: np.ndarray, height: int, width: int,\n",
    "                           dst_filename: str,\n",
    "                           label_filename: Optional[str] = None) -> None:\n",
    "    \"\"\"Writes the predicted 2D bounding boxes to the destination file. This is\n",
    "    based on writeLabels.m in the KITTI devkit.\n",
    "    :param out_scores: The scores output from the YOLO model prediction.\n",
    "    :param out_boxes: The boxes output from the YOLO model prediction.\n",
    "    :param out_classes: The class probabilities output from the YOLO model\n",
    "    prediction.\n",
    "    :param height: The image height.\n",
    "    :param width: The image width.\n",
    "    :param dst_filename: The filename at which to save the labels.\n",
    "    :param label_filename: If specified, fill in the 3D location with the data\n",
    "    from the label file (our model assumes that this data can be obtained from\n",
    "    lidar sensors).\n",
    "    \"\"\"\n",
    "    output_lines = []\n",
    "    for i, c in reversed(list(enumerate(out_classes))):\n",
    "        coco_class = CLASS_NAMES[c]\n",
    "        if coco_class not in COCO_TO_KITTI_CLASS:\n",
    "            kitti_class = 'Misc'\n",
    "        else:\n",
    "            kitti_class = COCO_TO_KITTI_CLASS[coco_class]\n",
    "        box = out_boxes[i]\n",
    "        top, left, bottom, right = box\n",
    "        top = max(0, np.floor(top + 0.5).astype('int32'))\n",
    "        left = max(0, np.floor(left + 0.5).astype('int32'))\n",
    "        bottom = min(height, np.floor(bottom + 0.5).astype('int32'))\n",
    "        right = min(width, np.floor(right + 0.5).astype('int32'))\n",
    "        score = out_scores[i]\n",
    "        if label_filename is not None:\n",
    "            loc_3d = get_best_3d_loc(label_filename, (left, top, right, bottom))\n",
    "        else:\n",
    "            loc_3d = INVALID_3D_LOC, INVALID_3D_LOC, INVALID_3D_LOC\n",
    "        label_line = ('{0} {1} {2} {3} {4} {5} {6} {7} {8} {9} {10} {11} '\n",
    "                      '{12} {13} {14} {15}').format(\n",
    "            kitti_class,\n",
    "            INVALID_TRUNCATION,\n",
    "            INVALID_OCCLUSION,\n",
    "            INVALID_ALPHA,\n",
    "            left, top, right, bottom,\n",
    "            INVALID_3D_HWL, INVALID_3D_HWL, INVALID_3D_HWL,\n",
    "            loc_3d[0], loc_3d[1], loc_3d[2],\n",
    "            INVALID_RY,\n",
    "            score)\n",
    "        output_lines.append(label_line)\n",
    "    with open(dst_filename, 'w') as outfile:\n",
    "        outfile.write('\\n'.join(output_lines))"
   ]
  },
  {
   "cell_type": "code",
   "execution_count": 38,
   "metadata": {},
   "outputs": [],
   "source": [
    "def get_image_height_width(image_file: str) -> Tuple[int, int]:\n",
    "    \"\"\"Returns the height and width of the image. Because PIL's Image.open() is\n",
    "    lazy, this does not load the image into memory.\n",
    "    :param image_file: The image filename.\n",
    "    :return: A tuple of the image height and width.\n",
    "    \"\"\"\n",
    "    with Image.open(image_file) as image:\n",
    "        return image.size[::-1]"
   ]
  },
  {
   "cell_type": "code",
   "execution_count": 59,
   "metadata": {},
   "outputs": [],
   "source": [
    "def predict_on_dir(\n",
    "    yolo_model: tf.keras.Model,\n",
    "    sess: tf.Session,\n",
    "    image_dir: str,\n",
    "    max_images: Optional[int] = None) -> \\\n",
    "    Dict[str, Tuple[np.ndarray, np.ndarray, np.ndarray]]:\n",
    "    \"\"\"Runs the YOLO graph stored in the session on the image.\n",
    "    :param yolo_model: The YOLO model.\n",
    "    :param sess: The TensorFlow/Keras session containing the YOLO graph.\n",
    "    :param image_dir: The path to the image directory on which to predict.\n",
    "    :param max_images: If specified, the maximum number of images on which to\n",
    "    predict.\n",
    "    :return: A dictionary where the keys are the filenames and the values are\n",
    "    tuple of scores, boxes, classes for the boxes found by YOLO.\n",
    "    \"\"\"\n",
    "    result = {}\n",
    "    image_files = os.listdir(image_dir)\n",
    "    if max_images is not None:\n",
    "        image_files = image_files[:max_images]\n",
    "    for image_file in tqdm(image_files):\n",
    "        result[image_file] = predict_on_image(\n",
    "            yolo_model, sess, os.path.join(image_dir, image_file))\n",
    "    return result"
   ]
  },
  {
   "cell_type": "code",
   "execution_count": 77,
   "metadata": {},
   "outputs": [],
   "source": [
    "def write_predictions_on_dir(\n",
    "    predictions: Dict[str, Tuple[np.ndarray, np.ndarray, np.ndarray]],\n",
    "    image_dir: str,\n",
    "    output_dir: str,\n",
    "    label_dir: Optional[str] = None) -> None:\n",
    "    \"\"\"Writes the predicted 2D bounding boxes to the destination directory.\n",
    "    :param predictions: The predictions on all image files in image_dir.\n",
    "    :param image_dir: The directory containing the images.\n",
    "    :param output_dir: The directory to which to save output files.\n",
    "    :param label_dir: If specified, used to supply 3D object location\n",
    "    coordinates.\n",
    "    \"\"\"\n",
    "    for image_file in predictions:\n",
    "        output_file = image_file.replace('.png', '.txt')\n",
    "        label_file = None if not label_dir else os.path.join(label_dir,\n",
    "                                                             output_file)\n",
    "        out_scores, out_boxes, out_classes = predictions[image_file]\n",
    "        height, width = get_image_height_width(os.path.join(\n",
    "            image_dir, image_file))\n",
    "        write_yolo_predictions(out_scores, out_boxes, out_classes,\n",
    "                               height, width,\n",
    "                               os.path.join(output_dir, output_file),\n",
    "                               label_filename=label_file)"
   ]
  },
  {
   "cell_type": "code",
   "execution_count": 75,
   "metadata": {},
   "outputs": [],
   "source": [
    "height, width = get_image_height_width(test_image)\n",
    "write_yolo_predictions(out_scores, out_boxes, out_classes, height, width,\n",
    "                       'test_out.txt',\n",
    "                       label_filename=os.path.join(TRAIN_LABEL_DIR,\n",
    "                                                   '000008.txt'))"
   ]
  },
  {
   "cell_type": "code",
   "execution_count": null,
   "metadata": {},
   "outputs": [],
   "source": [
    "kitti_train_predictions = predict_on_dir(yolo_model, sess, TRAIN_IMAGE_DIR,\n",
    "                                         max_images=100)\n",
    "write_predictions_on_dir(kitti_train_predictions, TRAIN_IMAGE_DIR,\n",
    "                         TRAIN_PREDICT_DIR, label_dir=TRAIN_LABEL_DIR)"
   ]
  },
  {
   "cell_type": "code",
   "execution_count": 64,
   "metadata": {},
   "outputs": [
    {
     "name": "stderr",
     "output_type": "stream",
     "text": [
      "100%|██████████| 100/100 [45:34<00:00, 27.35s/it]\n"
     ]
    }
   ],
   "source": [
    "kitti_test_predictions = predict_on_dir(yolo_model, sess, TEST_IMAGE_DIR,\n",
    "                                        max_images=100)\n",
    "write_predictions_on_dir(kitti_test_predictions, TEST_IMAGE_DIR,\n",
    "                         TEST_PREDICT_DIR)"
   ]
  },
  {
   "cell_type": "code",
   "execution_count": null,
   "metadata": {},
   "outputs": [],
   "source": []
  }
 ],
 "metadata": {
  "kernelspec": {
   "display_name": "4bai-project",
   "language": "python",
   "name": "4bai-project"
  },
  "language_info": {
   "codemirror_mode": {
    "name": "ipython",
    "version": 3
   },
   "file_extension": ".py",
   "mimetype": "text/x-python",
   "name": "python",
   "nbconvert_exporter": "python",
   "pygments_lexer": "ipython3",
   "version": "3.7.9"
  }
 },
 "nbformat": 4,
 "nbformat_minor": 4
}
