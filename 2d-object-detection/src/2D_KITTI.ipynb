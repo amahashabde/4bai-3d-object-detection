{
  "nbformat": 4,
  "nbformat_minor": 0,
  "metadata": {
    "accelerator": "GPU",
    "colab": {
      "name": "2D_KITTI.ipynb",
      "provenance": [],
      "collapsed_sections": [],
      "toc_visible": true,
      "machine_shape": "hm"
    },
    "kernelspec": {
      "display_name": "Python 3",
      "name": "python3"
    }
  },
  "cells": [
    {
      "cell_type": "markdown",
      "metadata": {
        "id": "V8-yl-s-WKMG"
      },
      "source": [
        "# Object Detection API Demo\n",
        "\n",
        "<table align=\"left\"><td>\n",
        "  <a target=\"_blank\"  href=\"https://colab.sandbox.google.com/github/tensorflow/models/blob/master/research/object_detection/colab_tutorials/object_detection_tutorial.ipynb\">\n",
        "    <img src=\"https://www.tensorflow.org/images/colab_logo_32px.png\" />Run in Google Colab\n",
        "  </a>\n",
        "</td><td>\n",
        "  <a target=\"_blank\"  href=\"https://github.com/tensorflow/models/blob/master/research/object_detection/colab_tutorials/object_detection_tutorial.ipynb\">\n",
        "    <img width=32px src=\"https://www.tensorflow.org/images/GitHub-Mark-32px.png\" />View source on GitHub</a>\n",
        "</td></table>"
      ]
    },
    {
      "cell_type": "markdown",
      "metadata": {
        "id": "3cIrseUv6WKz"
      },
      "source": [
        "Welcome to the [Object Detection API](https://github.com/tensorflow/models/tree/master/research/object_detection). This notebook will walk you step by step through the process of using a pre-trained model to detect objects in an image."
      ]
    },
    {
      "cell_type": "markdown",
      "metadata": {
        "id": "VrJaG0cYN9yh"
      },
      "source": [
        "> **Important**: This tutorial is to help you through the first step towards using [Object Detection API](https://github.com/tensorflow/models/tree/master/research/object_detection) to build models. If you just just need an off the shelf model that does the job, see the [TFHub object detection example](https://colab.sandbox.google.com/github/tensorflow/hub/blob/master/examples/colab/object_detection.ipynb)."
      ]
    },
    {
      "cell_type": "markdown",
      "metadata": {
        "id": "kFSqkTCdWKMI"
      },
      "source": [
        "# Setup"
      ]
    },
    {
      "cell_type": "markdown",
      "metadata": {
        "id": "awjrpqy-6MaQ"
      },
      "source": [
        "Important: If you're running on a local machine, be sure to follow the [installation instructions](https://github.com/tensorflow/models/blob/master/research/object_detection/g3doc/installation.md). This notebook includes only what's necessary to run in Colab."
      ]
    },
    {
      "cell_type": "markdown",
      "metadata": {
        "id": "p3UGXxUii5Ym"
      },
      "source": [
        "### Install"
      ]
    },
    {
      "cell_type": "code",
      "metadata": {
        "id": "hGL97-GXjSUw"
      },
      "source": [
        "import os\n",
        "os.chdir('/content/drive/MyDrive/Colab Notebooks/FourthBrain/2d')"
      ],
      "execution_count": null,
      "outputs": []
    },
    {
      "cell_type": "code",
      "metadata": {
        "id": "qLVAKKcxOqda"
      },
      "source": [
        "!python --version"
      ],
      "execution_count": null,
      "outputs": []
    },
    {
      "cell_type": "code",
      "metadata": {
        "id": "PmAHC1Cbzxx6"
      },
      "source": [
        "!pip install -U --pre tensorflow==\"2.*\"\r\n",
        "!pip install tf_slim"
      ],
      "execution_count": null,
      "outputs": []
    },
    {
      "cell_type": "markdown",
      "metadata": {
        "id": "n_ap_s9ajTHH"
      },
      "source": [
        "Make sure you have `pycocotools` installed"
      ]
    },
    {
      "cell_type": "code",
      "metadata": {
        "id": "Bg8ZyA47i3pY"
      },
      "source": [
        "!pip install pycocotools"
      ],
      "execution_count": null,
      "outputs": []
    },
    {
      "cell_type": "markdown",
      "metadata": {
        "id": "-vsOL3QR6kqs"
      },
      "source": [
        "Get `tensorflow/models` or `cd` to parent directory of the repository."
      ]
    },
    {
      "cell_type": "code",
      "metadata": {
        "id": "ykA0c-om51s1"
      },
      "source": [
        "import os\n",
        "import pathlib\n",
        "\n",
        "\n",
        "if \"models\" in pathlib.Path.cwd().parts:\n",
        "  while \"models\" in pathlib.Path.cwd().parts:\n",
        "    os.chdir('..')\n",
        "elif not pathlib.Path('models').exists():\n",
        "  !git clone --depth 1 https://github.com/tensorflow/models"
      ],
      "execution_count": null,
      "outputs": []
    },
    {
      "cell_type": "code",
      "metadata": {
        "id": "ZxMVOIXv_mWf"
      },
      "source": [
        "# Load the TensorBoard notebook extension\r\n",
        "%load_ext tensorboard\r\n",
        "\r\n",
        "import tensorflow as tf\r\n",
        "import datetime, os"
      ],
      "execution_count": null,
      "outputs": []
    },
    {
      "cell_type": "markdown",
      "metadata": {
        "id": "O219m6yWAj9l"
      },
      "source": [
        "Compile protobufs and install the object_detection package"
      ]
    },
    {
      "cell_type": "code",
      "metadata": {
        "id": "PY41vdYYNlXc"
      },
      "source": [
        "%%bash\n",
        "cd models/research/\n",
        "protoc object_detection/protos/*.proto --python_out=."
      ],
      "execution_count": null,
      "outputs": []
    },
    {
      "cell_type": "code",
      "metadata": {
        "id": "s62yJyQUcYbp"
      },
      "source": [
        "%%bash \n",
        "cd models/research\n",
        "cp object_detection/packages/tf2/setup.py .\n",
        "pip install .\n",
        "#python -m pip install --use-feature=2020-resolver ."
      ],
      "execution_count": null,
      "outputs": []
    },
    {
      "cell_type": "markdown",
      "metadata": {
        "id": "LBdjK2G5ywuc"
      },
      "source": [
        "### Imports"
      ]
    },
    {
      "cell_type": "code",
      "metadata": {
        "id": "rU-NRViqBSKE"
      },
      "source": [
        "%%bash \r\n",
        "cd models/research\r\n",
        "python object_detection/builders/model_builder_tf2_test.py"
      ],
      "execution_count": null,
      "outputs": []
    },
    {
      "cell_type": "code",
      "metadata": {
        "id": "debTckiDd5NC"
      },
      "source": [
        "# Generate the TFRed files for the KITTI-500 data set (500 kitti images)\r\n",
        "# We are using 500 images, and 30 images for the validation set\r\n",
        "%%bash \r\n",
        "cd models/research\r\n",
        "python \"object_detection/dataset_tools/create_kitti_tf_record.py\" --data_dir=\"../../kitti_data_500\" \\\r\n",
        "--output_path=\"../../kitti500.record\" \\\r\n",
        "--label_map_path=\"object_detection/data/kitti_label_map.pbtxt\" \\\r\n",
        "--validation_set_size=50"
      ],
      "execution_count": null,
      "outputs": []
    },
    {
      "cell_type": "code",
      "metadata": {
        "id": "V4rwvwl-FcXQ"
      },
      "source": [
        "# Generate the TFRed files for the KITTI data set\r\n",
        "# We are using 100 images, and 30 images for the validation set\r\n",
        "%%bash \r\n",
        "cd models/research\r\n",
        "python \"object_detection/dataset_tools/create_kitti_tf_record.py\" --data_dir=\"../../kitti_data\" \\\r\n",
        "--output_path=\"../../kitti.record\" \\\r\n",
        "--label_map_path=\"object_detection/data/kitti_label_map.pbtxt\" \\\r\n",
        "--validation_set_size=30"
      ],
      "execution_count": null,
      "outputs": []
    },
    {
      "cell_type": "code",
      "metadata": {
        "id": "EyASL55pwK0K"
      },
      "source": [
        "#Training step ssd_resnet50_v1_fpn_640x640 model\r\n",
        "\r\n",
        "%%bash \r\n",
        "cd models/research\r\n",
        "PIPELINE_CONFIG_PATH=\"/content/drive/MyDrive/Colab Notebooks/FourthBrain/2d/Experiment2/ssd_resnet50_v1_fpn_640x640_coco17_tpu-8/ssd_resnet50_v1_fpn_640x640_coco17_tpu-8.config\" \r\n",
        "MODEL_DIR=\"/content/drive/MyDrive/Colab Notebooks/FourthBrain/2d/Experiment2/training_process\"\r\n",
        "\r\n",
        "python object_detection/model_main_tf2.py \\\r\n",
        "    --pipeline_config_path=\"/content/drive/MyDrive/Colab Notebooks/FourthBrain/2d/Experiment2/ssd_resnet50_v1_fpn_640x640_coco17_tpu-8/ssd_resnet50_v1_fpn_640x640_coco17_tpu-8.config\" \\\r\n",
        "    --model_dir=\"/content/drive/MyDrive/Colab Notebooks/FourthBrain/2d/Experiment2/training_process\" \\\r\n",
        "    --alsologtostderr\r\n"
      ],
      "execution_count": null,
      "outputs": []
    },
    {
      "cell_type": "code",
      "metadata": {
        "id": "ZZR3uhqYKe68"
      },
      "source": [
        "os.chdir(\"/content/drive/MyDrive/Colab Notebooks/FourthBrain/2d/models/research\")\r\n",
        "os.environ[\"PIPELINE_CONFIG_PATH\"] = \"/content/drive/MyDrive/Colab Notebooks/FourthBrain/2d/Experiment2/ssd_resnet50_v1_fpn_640x640_coco17_tpu-8/kitti500_ ssd_resnet50_v1_fpn_640x640_coco17_tpu-8.config\"\r\n",
        "os.environ[\"MODEL_DIR\"]=\"/content/drive/MyDrive/Colab Notebooks/FourthBrain/2d/Experiment2/kitti500_training_process\"\r\n",
        "\r\n",
        "!python object_detection/model_main_tf2.py \\\r\n",
        "    --pipeline_config_path=\"${PIPELINE_CONFIG_PATH}\" \\\r\n",
        "    --model_dir=\"${MODEL_DIR}\" \\\r\n",
        "    --alsologtostderr\r\n"
      ],
      "execution_count": null,
      "outputs": []
    },
    {
      "cell_type": "code",
      "metadata": {
        "id": "OhFfpCQCq69C"
      },
      "source": [
        "os.chdir(\"/content/drive/MyDrive/Colab Notebooks/FourthBrain/2d/models/research\")\r\n",
        "os.environ[\"PIPELINE_CONFIG_PATH\"] = \"/content/drive/MyDrive/Colab Notebooks/FourthBrain/2d/Experiment2/ssd_resnet50_v1_fpn_640x640_coco17_tpu-8/kitti500_ ssd_resnet50_v1_fpn_640x640_coco17_tpu-8.config\"\r\n",
        "os.environ[\"MODEL_DIR\"]=\"/content/drive/MyDrive/Colab Notebooks/FourthBrain/2d/Experiment2/kitti500_training_process\"\r\n",
        "#CHECKPOINT_DIR=${MODEL_DIR}\r\n",
        "os.environ[\"CHECKPOINT_DIR\"]=\"/content/drive/MyDrive/Colab Notebooks/FourthBrain/2d/Experiment2/kitti500_training_process\"\r\n",
        "os.environ[\"MODEL_DIR\"]=\"/content/drive/MyDrive/Colab Notebooks/FourthBrain/2d/Experiment2/kitti500_training_process\"\r\n",
        "\r\n",
        "!python object_detection/model_main_tf2.py \\\r\n",
        "    --pipeline_config_path=\"${PIPELINE_CONFIG_PATH}\" \\\r\n",
        "    --model_dir=\"${MODEL_DIR}\" \\\r\n",
        "    --checkpoint_dir=\"${CHECKPOINT_DIR}\" \\\r\n",
        "    --alsologtostderr\r\n"
      ],
      "execution_count": null,
      "outputs": []
    },
    {
      "cell_type": "code",
      "metadata": {
        "id": "ORHc63Di3a0M"
      },
      "source": [
        ""
      ],
      "execution_count": null,
      "outputs": []
    },
    {
      "cell_type": "code",
      "metadata": {
        "id": "8oEHpG5H3bhF"
      },
      "source": [
        "# Train with learning rate=.004, batch_size=20, num_steps=200\r\n",
        "\r\n",
        "os.chdir(\"/content/drive/MyDrive/Colab Notebooks/FourthBrain/2d/models/research\")\r\n",
        "os.environ[\"PIPELINE_CONFIG_PATH\"] = \"/content/drive/MyDrive/Colab Notebooks/FourthBrain/2d/Experiment2/ssd_resnet50_v1_fpn_640x640_coco17_tpu-8/kitti500v2_ ssd_resnet50_v1_fpn_640x640_coco17_tpu-8.config\"\r\n",
        "os.environ[\"MODEL_DIR\"]=\"/content/drive/MyDrive/Colab Notebooks/FourthBrain/2d/Experiment2/kitti500v2_training_process\"\r\n",
        "\r\n",
        "!python object_detection/model_main_tf2.py \\\r\n",
        "    --pipeline_config_path=\"${PIPELINE_CONFIG_PATH}\" \\\r\n",
        "    --model_dir=\"${MODEL_DIR}\" \\\r\n",
        "    --alsologtostderr\r\n"
      ],
      "execution_count": null,
      "outputs": []
    },
    {
      "cell_type": "code",
      "metadata": {
        "id": "ttuD4BX8xPg7"
      },
      "source": [
        "%tensorboard --logdir '/content/drive/MyDrive/Colab Notebooks/FourthBrain/2d/Experiment2/kitti500v2_training_process/train'"
      ],
      "execution_count": null,
      "outputs": []
    },
    {
      "cell_type": "code",
      "metadata": {
        "colab": {
          "base_uri": "https://localhost:8080/",
          "height": 821
        },
        "id": "9fBaqIfWDLwa",
        "outputId": "2fe90715-2068-4ebe-941c-94b5fef9297e"
      },
      "source": [
        "%tensorboard --logdir '/content/drive/MyDrive/Colab Notebooks/FourthBrain/2d/Experiment2/kitti500v2_training_process/eval'"
      ],
      "execution_count": null,
      "outputs": []
    },
    {
      "cell_type": "code",
      "metadata": {
        "id": "vk5-OL7DxkIk"
      },
      "source": [
        "%tensorboard --logdir '/content/drive/MyDrive/Colab Notebooks/FourthBrain/2d/Experiment2/kitti500_training_process/eval'"
      ],
      "execution_count": null,
      "outputs": []
    },
    {
      "cell_type": "code",
      "metadata": {
        "id": "dFo-4qpmgzjJ"
      },
      "source": [
        "#Evaluation\r\n",
        "# From the tensorflow/models/research/ directory\r\n",
        "%%bash \r\n",
        "cd models/research\r\n",
        "PIPELINE_CONFIG_PATH=\"/content/drive/MyDrive/Colab Notebooks/FourthBrain/2d/Experiment2/ssd_resnet50_v1_fpn_640x640_coco17_tpu-8/ssd_resnet50_v1_fpn_640x640_coco17_tpu-8.config\"\r\n",
        "MODEL_DIR=\"/content/drive/MyDrive/Colab Notebooks/FourthBrain/2d/Experiment2/training_process\"\r\n",
        "CHECKPOINT_DIR=${MODEL_DIR}\r\n",
        "MODEL_DIR=\"/content/drive/MyDrive/Colab Notebooks/FourthBrain/2d/Experiment2/training_process\"\r\n",
        "\r\n",
        "python object_detection/model_main_tf2.py \\\r\n",
        "    --pipeline_config_path=\"${PIPELINE_CONFIG_PATH}\" \\\r\n",
        "    --model_dir=\"${MODEL_DIR}\" \\\r\n",
        "    --checkpoint_dir=\"${CHECKPOINT_DIR}\" \\\r\n",
        "    --alsologtostderr\r\n"
      ],
      "execution_count": null,
      "outputs": []
    },
    {
      "cell_type": "code",
      "metadata": {
        "id": "LyAuRssek7Ct"
      },
      "source": [
        "#Training step efficient dnet7 model did not work\r\n",
        "\r\n",
        "%%bash \r\n",
        "cd models/research\r\n",
        "PIPELINE_CONFIG_PATH=\"/content/drive/MyDrive/Colab Notebooks/FourthBrain/2d/Experiment1/pretrained_model/efficientdet_d7_coco17_tpu-32/ssd_efficientdet_d7_1536x1536_coco17_tpu-32.config\"\r\n",
        "MODEL_DIR=\"/content/drive/MyDrive/Colab Notebooks/FourthBrain/2d/Experiment1/training_process\"\r\n",
        "\r\n",
        "python object_detection/model_main_tf2.py \\\r\n",
        "    --pipeline_config_path=\"/content/drive/MyDrive/Colab Notebooks/FourthBrain/2d/Experiment1/pretrained_model/efficientdet_d7_coco17_tpu-32/ssd_efficientdet_d7_1536x1536_coco17_tpu-32.config\" \\\r\n",
        "    --model_dir=\"/content/drive/MyDrive/Colab Notebooks/FourthBrain/2d/Experiment1/training_process\" \\\r\n",
        "    --alsologtostderr\r\n",
        "\r\n",
        "#python object_detection/model_main_tf2.py --pipeline_config_path=\"${PIPELINE_CONFIG_PATH}\" --model_dir=\"${MODEL_DIR}\" --alsologtostderr\r\n"
      ],
      "execution_count": null,
      "outputs": []
    },
    {
      "cell_type": "code",
      "metadata": {
        "id": "MGLtAL1-AaM6"
      },
      "source": [
        "%tensorboard --logdir '/content/drive/MyDrive/Colab Notebooks/FourthBrain/2d/Experiment2/training_process/train'"
      ],
      "execution_count": null,
      "outputs": []
    },
    {
      "cell_type": "code",
      "metadata": {
        "id": "nIUJLNbP-U9F"
      },
      "source": [
        "%tensorboard --logdir '/content/drive/MyDrive/Colab Notebooks/FourthBrain/2d/Experiment2/training_process/eval'"
      ],
      "execution_count": null,
      "outputs": []
    },
    {
      "cell_type": "code",
      "metadata": {
        "id": "eYMQRl3Eku_I"
      },
      "source": [
        ""
      ],
      "execution_count": null,
      "outputs": []
    },
    {
      "cell_type": "code",
      "metadata": {
        "id": "hV4P5gyTWKMI"
      },
      "source": [
        "import numpy as np\n",
        "import os\n",
        "import six.moves.urllib as urllib\n",
        "import sys\n",
        "import tarfile\n",
        "import tensorflow as tf\n",
        "import zipfile\n",
        "\n",
        "from collections import defaultdict\n",
        "from io import StringIO\n",
        "from matplotlib import pyplot as plt\n",
        "from PIL import Image\n",
        "from IPython.display import display"
      ],
      "execution_count": null,
      "outputs": []
    },
    {
      "cell_type": "markdown",
      "metadata": {
        "id": "r5FNuiRPWKMN"
      },
      "source": [
        "Import the object detection module."
      ]
    },
    {
      "cell_type": "code",
      "metadata": {
        "id": "4-IMl4b6BdGO"
      },
      "source": [
        "from object_detection.utils import ops as utils_ops\n",
        "from object_detection.utils import label_map_util\n",
        "from object_detection.utils import visualization_utils as vis_util"
      ],
      "execution_count": null,
      "outputs": []
    },
    {
      "cell_type": "markdown",
      "metadata": {
        "id": "RYPCiag2iz_q"
      },
      "source": [
        "Patches:"
      ]
    },
    {
      "cell_type": "code",
      "metadata": {
        "id": "mF-YlMl8c_bM"
      },
      "source": [
        "# patch tf1 into `utils.ops`\n",
        "utils_ops.tf = tf.compat.v1\n",
        "\n",
        "# Patch the location of gfile\n",
        "tf.gfile = tf.io.gfile"
      ],
      "execution_count": null,
      "outputs": []
    },
    {
      "cell_type": "markdown",
      "metadata": {
        "id": "cfn_tRFOWKMO"
      },
      "source": [
        "# Model preparation "
      ]
    },
    {
      "cell_type": "markdown",
      "metadata": {
        "id": "X_sEBLpVWKMQ"
      },
      "source": [
        "## Variables\n",
        "\n",
        "Any model exported using the `export_inference_graph.py` tool can be loaded here simply by changing the path.\n",
        "\n",
        "By default we use an \"SSD with Mobilenet\" model here. See the [detection model zoo](https://github.com/tensorflow/models/blob/master/research/object_detection/g3doc/detection_model_zoo.md) for a list of other models that can be run out-of-the-box with varying speeds and accuracies."
      ]
    },
    {
      "cell_type": "markdown",
      "metadata": {
        "id": "7ai8pLZZWKMS"
      },
      "source": [
        "## Loader"
      ]
    },
    {
      "cell_type": "code",
      "metadata": {
        "id": "zm8xp-0eoItE"
      },
      "source": [
        "def load_model(model_name):\n",
        "  base_url = 'http://download.tensorflow.org/models/object_detection/tf2/20200711/'\n",
        "  model_file = model_name + '.tar.gz'\n",
        "  model_dir = tf.keras.utils.get_file(\n",
        "    fname=model_name, \n",
        "    origin=base_url + model_file,\n",
        "    untar=True)\n",
        "\n",
        "  model_dir = pathlib.Path(model_dir)/\"saved_model\"\n",
        "\n",
        "  model = tf.saved_model.load(str(model_dir))\n",
        "\n",
        "  return model"
      ],
      "execution_count": null,
      "outputs": []
    },
    {
      "cell_type": "markdown",
      "metadata": {
        "id": "_1MVVTcLWKMW"
      },
      "source": [
        "## Loading label map\n",
        "Label maps map indices to category names, so that when our convolution network predicts `5`, we know that this corresponds to `airplane`.  Here we use internal utility functions, but anything that returns a dictionary mapping integers to appropriate string labels would be fine"
      ]
    },
    {
      "cell_type": "code",
      "metadata": {
        "id": "hDbpHkiWWKMX"
      },
      "source": [
        "# List of the strings that is used to add correct label for each box.\n",
        "PATH_TO_LABELS = 'models/research/object_detection/data/mscoco_label_map.pbtxt'\n",
        "category_index = label_map_util.create_category_index_from_labelmap(PATH_TO_LABELS, use_display_name=True)"
      ],
      "execution_count": null,
      "outputs": []
    },
    {
      "cell_type": "markdown",
      "metadata": {
        "id": "oVU3U_J6IJVb"
      },
      "source": [
        "For the sake of simplicity we will test on 2 images:"
      ]
    },
    {
      "cell_type": "markdown",
      "metadata": {
        "id": "LDywm4_l27vj"
      },
      "source": [
        ""
      ]
    },
    {
      "cell_type": "code",
      "metadata": {
        "id": "jG-zn5ykWKMd"
      },
      "source": [
        "# If you want to test the code with your images, just add path to the images to the TEST_IMAGE_PATHS.\n",
        "#PATH_TO_TEST_IMAGES_DIR = pathlib.Path('models/research/object_detection/test_images')\n",
        "#TEST_IMAGE_PATHS = sorted(list(PATH_TO_TEST_IMAGES_DIR.glob(\"*.jpg\")))\n",
        "PATH_TO_TEST_IMAGES_DIR = pathlib.Path('/content/drive/MyDrive/Colab Notebooks/FourthBrain/2D Object Detection/test_images')\n",
        "TEST_IMAGE_PATHS = sorted(list(PATH_TO_TEST_IMAGES_DIR.glob(\"*.png\")))\n",
        "TEST_IMAGE_PATHS"
      ],
      "execution_count": null,
      "outputs": []
    },
    {
      "cell_type": "markdown",
      "metadata": {
        "id": "H0_1AGhrWKMc"
      },
      "source": [
        "# Detection"
      ]
    },
    {
      "cell_type": "markdown",
      "metadata": {
        "id": "f7aOtOlebK7h"
      },
      "source": [
        "Load an object detection model:"
      ]
    },
    {
      "cell_type": "code",
      "metadata": {
        "id": "1XNT0wxybKR6"
      },
      "source": [
        "#model_name = 'faster_rcnn_resnet101_v1_640x640_coco17_tpu-8'\n",
        "#model_name = 'ssd_resnet50_v1_fpn_1024x1024_coco17_tpu-8' #SSD ResNet101 V1 FPN 1024x1024 (RetinaNet101)\t\n",
        "#model_name = 'centernet_resnet101_v1_fpn_512x512_coco17_tpu-8' #CenterNet Resnet101 V1 FPN 512x512\t\n",
        "#model_name = 'centernet_resnet101_v1_fpn_512x512_coco17_tpu-8' #CenterNet Resnet101 V1 FPN 512x512\t\n",
        "model_name = 'efficientdet_d7_coco17_tpu-32' #EfficientDet D7 1536x1536\n",
        "\n",
        "detection_model = load_model(model_name)\n"
      ],
      "execution_count": null,
      "outputs": []
    },
    {
      "cell_type": "code",
      "metadata": {
        "id": "SrPZdExMcJcr",
        "colab": {
          "base_uri": "https://localhost:8080/"
        },
        "outputId": "51241aad-9a47-4c32-fd6d-7a1192a860a4"
      },
      "source": [
        "from google.colab import drive\n",
        "drive.mount('/content/drive')"
      ],
      "execution_count": null,
      "outputs": [
        {
          "output_type": "stream",
          "text": [
            "Mounted at /content/drive\n"
          ],
          "name": "stdout"
        }
      ]
    },
    {
      "cell_type": "markdown",
      "metadata": {
        "id": "yN1AYfAEJIGp"
      },
      "source": [
        "Check the model's input signature, it expects a batch of 3-color images of type uint8:"
      ]
    },
    {
      "cell_type": "code",
      "metadata": {
        "id": "CK4cnry6wsHY"
      },
      "source": [
        "print(detection_model.signatures['serving_default'].inputs)"
      ],
      "execution_count": null,
      "outputs": []
    },
    {
      "cell_type": "markdown",
      "metadata": {
        "id": "Q8u3BjpMJXZF"
      },
      "source": [
        "And returns several outputs:"
      ]
    },
    {
      "cell_type": "code",
      "metadata": {
        "id": "oLSZpfaYwuSk"
      },
      "source": [
        "detection_model.signatures['serving_default'].output_dtypes"
      ],
      "execution_count": null,
      "outputs": []
    },
    {
      "cell_type": "code",
      "metadata": {
        "id": "FZyKUJeuxvpT"
      },
      "source": [
        "detection_model.signatures['serving_default'].output_shapes"
      ],
      "execution_count": null,
      "outputs": []
    },
    {
      "cell_type": "markdown",
      "metadata": {
        "id": "JP5qZ7sXJpwG"
      },
      "source": [
        "Add a wrapper function to call the model, and cleanup the outputs:"
      ]
    },
    {
      "cell_type": "code",
      "metadata": {
        "id": "ajmR_exWyN76"
      },
      "source": [
        "def run_inference_for_single_image(model, image):\n",
        "  image = np.asarray(image)\n",
        "  # The input needs to be a tensor, convert it using `tf.convert_to_tensor`.\n",
        "  input_tensor = tf.convert_to_tensor(image)\n",
        "  # The model expects a batch of images, so add an axis with `tf.newaxis`.\n",
        "  input_tensor = input_tensor[tf.newaxis,...]\n",
        "\n",
        "  # Run inference\n",
        "  model_fn = model.signatures['serving_default']\n",
        "  output_dict = model_fn(input_tensor)\n",
        "\n",
        "  # All outputs are batches tensors.\n",
        "  # Convert to numpy arrays, and take index [0] to remove the batch dimension.\n",
        "  # We're only interested in the first num_detections.\n",
        "  num_detections = int(output_dict.pop('num_detections'))\n",
        "  output_dict = {key:value[0, :num_detections].numpy() \n",
        "                 for key,value in output_dict.items()}\n",
        "  output_dict['num_detections'] = num_detections\n",
        "\n",
        "  # detection_classes should be ints.\n",
        "  output_dict['detection_classes'] = output_dict['detection_classes'].astype(np.int64)\n",
        "   \n",
        "  # Handle models with masks:\n",
        "  if 'detection_masks' in output_dict:\n",
        "    # Reframe the the bbox mask to the image size.\n",
        "    detection_masks_reframed = utils_ops.reframe_box_masks_to_image_masks(\n",
        "              output_dict['detection_masks'], output_dict['detection_boxes'],\n",
        "               image.shape[0], image.shape[1])      \n",
        "    detection_masks_reframed = tf.cast(detection_masks_reframed > 0.5,\n",
        "                                       tf.uint8)\n",
        "    output_dict['detection_masks_reframed'] = detection_masks_reframed.numpy()\n",
        "    \n",
        "  return output_dict"
      ],
      "execution_count": null,
      "outputs": []
    },
    {
      "cell_type": "markdown",
      "metadata": {
        "id": "z1wq0LVyMRR_"
      },
      "source": [
        "Run it on each test image and show the results:"
      ]
    },
    {
      "cell_type": "code",
      "metadata": {
        "id": "DWh_1zz6aqxs"
      },
      "source": [
        "def show_inference(model, image_path):\n",
        "  # the array based representation of the image will be used later in order to prepare the\n",
        "  # result image with boxes and labels on it.\n",
        "  image_np = np.array(Image.open(image_path))\n",
        "  # Actual detection.\n",
        "  output_dict = run_inference_for_single_image(model, image_np)\n",
        "  # Visualization of the results of a detection.\n",
        "  vis_util.visualize_boxes_and_labels_on_image_array(\n",
        "      image_np,\n",
        "      output_dict['detection_boxes'],\n",
        "      output_dict['detection_classes'],\n",
        "      output_dict['detection_scores'],\n",
        "      category_index,\n",
        "      instance_masks=output_dict.get('detection_masks_reframed', None),\n",
        "      use_normalized_coordinates=True,\n",
        "      line_thickness=8)\n",
        "\n",
        "  display(Image.fromarray(image_np))"
      ],
      "execution_count": null,
      "outputs": []
    },
    {
      "cell_type": "code",
      "metadata": {
        "id": "3a5wMHN8WKMh"
      },
      "source": [
        "for image_path in TEST_IMAGE_PATHS:\n",
        "  show_inference(detection_model, image_path)\n"
      ],
      "execution_count": null,
      "outputs": []
    },
    {
      "cell_type": "code",
      "metadata": {
        "id": "-1SZkHRU0Hbk"
      },
      "source": [
        "model_name = 'ssd_mobilenet_v1_fpn_640x640_coco17_tpu-8' #ssd_mobilenet_v1/fpn_640x640\r\n",
        "\r\n",
        "detection_model = load_model(model_name)"
      ],
      "execution_count": null,
      "outputs": []
    },
    {
      "cell_type": "code",
      "metadata": {
        "id": "jRqfKMVR1FV-"
      },
      "source": [
        "for image_path in TEST_IMAGE_PATHS:\r\n",
        "  show_inference(detection_model, image_path)\r\n"
      ],
      "execution_count": null,
      "outputs": []
    }
  ]
}